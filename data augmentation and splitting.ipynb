{
 "cells": [
  {
   "cell_type": "markdown",
   "metadata": {},
   "source": [
    "# Extracting zip folder"
   ]
  },
  {
   "cell_type": "code",
   "execution_count": 7,
   "metadata": {
    "id": "O6zUandPjP1h"
   },
   "outputs": [],
   "source": [
    "import zipfile\n",
    "path_to_zip_file=r\"iqa_assignment.zip\"\n",
    "directory_to_extract_to=\"input\"\n",
    "with zipfile.ZipFile(path_to_zip_file, 'r') as zip_ref:\n",
    "    zip_ref.extractall(directory_to_extract_to)"
   ]
  },
  {
   "cell_type": "markdown",
   "metadata": {
    "id": "c8PJMGZijQYc"
   },
   "source": [
    "### using prebuild library"
   ]
  },
  {
   "cell_type": "markdown",
   "metadata": {},
   "source": [
    "# importing the libraries"
   ]
  },
  {
   "cell_type": "code",
   "execution_count": 35,
   "metadata": {
    "id": "jaUjxkgjo4rB"
   },
   "outputs": [],
   "source": [
    "import PIL.Image as Image\n",
    "\n",
    "import os\n",
    "import pandas as pd\n",
    "import glob\n",
    "import numpy as np\n",
    "from skimage.io import imread, imsave\n",
    "from tqdm import tqdm\n",
    "import matplotlib.pyplot as plt\n",
    "%matplotlib inline\n",
    "\n",
    "from sklearn.model_selection import train_test_split\n",
    "from sklearn.metrics import accuracy_score\n",
    "\n",
    "from skimage.transform import rotate\n",
    "from skimage.util import random_noise\n",
    "from skimage.filters import gaussian\n",
    "from scipy import ndimage"
   ]
  },
  {
   "cell_type": "markdown",
   "metadata": {
    "id": "75cmKmcon2iQ"
   },
   "source": [
    "# Data augumentation  for good images"
   ]
  },
  {
   "cell_type": "code",
   "execution_count": 52,
   "metadata": {},
   "outputs": [],
   "source": [
    "#Importing necessary functions\n",
    "from keras.preprocessing.image import ImageDataGenerator,array_to_img, img_to_array, load_img\n",
    "   \n",
    "# Initialising the ImageDataGenerator class.\n",
    "# We will pass in the augmentation parameters in the constructor.\n",
    "datagen = ImageDataGenerator(\n",
    "        rotation_range = 40,\n",
    "        shear_range = 0.2,\n",
    "        zoom_range = 0.2,\n",
    "    featurewise_center=True,\n",
    "        featurewise_std_normalization=True,\n",
    "        width_shift_range=0.2,\n",
    "        height_shift_range=0.2,\n",
    "        horizontal_flip = True,\n",
    "        brightness_range = (0.5, 1.5))\n",
    "  "
   ]
  },
  {
   "cell_type": "code",
   "execution_count": 128,
   "metadata": {},
   "outputs": [],
   "source": [
    "image_list = glob.glob(r'input/good_quality_images/*.png')\n",
    "save_dir=r\"C:\\Users\\Admin\\Downloads\\image quality\\input\\good_quality_images\"\n",
    "\n",
    "\n",
    "    \n",
    "for im in image_list:\n",
    "    \n",
    "    # Loading a sample image \n",
    "    img = load_img(im) \n",
    "    # Converting the input sample image to an array\n",
    "    x = img_to_array(img)\n",
    "    # Reshaping the input image\n",
    "    x = x.reshape((1, ) + x.shape) \n",
    "    # Generating and saving 5 augmented samples \n",
    "    # using the above defined parameters. \n",
    "    i = 0\n",
    "\n",
    "    for batch in datagen.flow(x, batch_size = 1, save_to_dir =save_dir, save_prefix ='im', save_format ='png'):\n",
    "        i += 1\n",
    "        if i > 22:\n",
    "            break"
   ]
  },
  {
   "cell_type": "code",
   "execution_count": 73,
   "metadata": {},
   "outputs": [
    {
     "data": {
      "text/plain": [
       "'C:\\\\Users\\\\Admin\\\\Downloads\\\\image quality'"
      ]
     },
     "execution_count": 73,
     "metadata": {},
     "output_type": "execute_result"
    }
   ],
   "source": [
    "os.getcwd()"
   ]
  },
  {
   "cell_type": "code",
   "execution_count": 77,
   "metadata": {},
   "outputs": [],
   "source": []
  },
  {
   "cell_type": "markdown",
   "metadata": {},
   "source": [
    "tf.keras.preprocessing.image.ImageDataGenerator(\n",
    "    featurewise_center=False, samplewise_center=False,\n",
    "    featurewise_std_normalization=False, samplewise_std_normalization=False,\n",
    "    zca_whitening=False, zca_epsilon=1e-06, rotation_range=0, width_shift_range=0.0,\n",
    "    height_shift_range=0.0, brightness_range=None, shear_range=0.0, zoom_range=0.0,\n",
    "    channel_shift_range=0.0, fill_mode='nearest', cval=0.0,\n",
    "    horizontal_flip=True, vertical_flip=True, rescale=None,\n",
    "    preprocessing_function=None, data_format=None, validation_split=0.0, dtype=None\n",
    ")"
   ]
  },
  {
   "cell_type": "markdown",
   "metadata": {
    "id": "cGHdJn-NjKv9"
   },
   "source": [
    "# Data split to train test folders"
   ]
  },
  {
   "cell_type": "code",
   "execution_count": 136,
   "metadata": {},
   "outputs": [
    {
     "name": "stderr",
     "output_type": "stream",
     "text": [
      "Copying files: 14832 files [01:12, 204.04 files/s]\n"
     ]
    }
   ],
   "source": [
    "#!pip install split-folders\n",
    "import splitfolders\n",
    "Data=r\"C:\\Users\\Admin\\Downloads\\image quality\\input\"\n",
    "if not os.path.exists('output'):\n",
    "    os.makedirs('output')\n",
    "splitfolders.ratio(Data, output=\"output\", seed=1337, ratio=(0.8, 0.2)) "
   ]
  },
  {
   "cell_type": "code",
   "execution_count": 129,
   "metadata": {
    "id": "KrbagEFdn-el"
   },
   "outputs": [],
   "source": [
    "%matplotlib inline\n",
    "%config InlineBackend.figure_format = 'retina'\n",
    "import matplotlib.pyplot as plt\n",
    "import numpy as np\n",
    "import torch\n",
    "from torch import nn\n",
    "from torch import optim\n",
    "import torch.nn.functional as F\n",
    "from torchvision import datasets, transforms, models"
   ]
  },
  {
   "cell_type": "code",
   "execution_count": 130,
   "metadata": {
    "id": "wyyL54Mgn7ud"
   },
   "outputs": [
    {
     "name": "stdout",
     "output_type": "stream",
     "text": [
      "C:\\Users\\Admin\\Downloads\\image quality\\output\n"
     ]
    }
   ],
   "source": [
    "PATH = os.path.join(os.getcwd(), r'output')\n",
    "print(PATH)"
   ]
  },
  {
   "cell_type": "code",
   "execution_count": 131,
   "metadata": {},
   "outputs": [
    {
     "name": "stdout",
     "output_type": "stream",
     "text": [
      "Inside handler\n",
      "Inside handler\n"
     ]
    }
   ],
   "source": [
    "import shutil\n",
    "    \n",
    "# exception handler \n",
    "def handler(func, path, exc_info): \n",
    "    print(\"Inside handler\") \n",
    "    #print(exc_info) \n",
    "\n",
    "data_dir = os.path.join(os.getcwd(), r'input')\n",
    "rem = os.path.join(data_dir, r'__MACOSX')\n",
    "    \n",
    "rem = os.path.join(PATH, r'__MACOSX')\n",
    "shutil. rmtree(rem, onerror = handler)\n",
    "\n",
    "data_dir = os.path.join(PATH, 'train')\n",
    "data_dir = os.path.join(os.getcwd(), r'input')\n",
    "rem = os.path.join(data_dir, r'__MACOSX')\n",
    "\n",
    "\n",
    "data_dir = os.path.join(PATH, 'test')\n",
    "data_dir = os.path.join(os.getcwd(), r'input')\n",
    "rem = os.path.join(data_dir, r'__MACOSX')"
   ]
  },
  {
   "cell_type": "code",
   "execution_count": null,
   "metadata": {},
   "outputs": [],
   "source": []
  },
  {
   "cell_type": "code",
   "execution_count": null,
   "metadata": {},
   "outputs": [],
   "source": []
  },
  {
   "cell_type": "code",
   "execution_count": null,
   "metadata": {},
   "outputs": [],
   "source": []
  },
  {
   "cell_type": "code",
   "execution_count": null,
   "metadata": {},
   "outputs": [],
   "source": []
  }
 ],
 "metadata": {
  "accelerator": "GPU",
  "colab": {
   "collapsed_sections": [],
   "name": "image-quality.ipynb",
   "provenance": []
  },
  "kernelspec": {
   "display_name": "Python 3",
   "language": "python",
   "name": "python3"
  },
  "language_info": {
   "codemirror_mode": {
    "name": "ipython",
    "version": 3
   },
   "file_extension": ".py",
   "mimetype": "text/x-python",
   "name": "python",
   "nbconvert_exporter": "python",
   "pygments_lexer": "ipython3",
   "version": "3.7.7"
  }
 },
 "nbformat": 4,
 "nbformat_minor": 1
}
